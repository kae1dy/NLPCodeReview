{
  "nbformat": 4,
  "nbformat_minor": 0,
  "metadata": {
    "colab": {
      "provenance": [],
      "gpuType": "T4",
      "authorship_tag": "ABX9TyP4fqWvO89oeUdBDplPfkUE",
      "include_colab_link": true
    },
    "kernelspec": {
      "name": "python3",
      "display_name": "Python 3"
    },
    "language_info": {
      "name": "python"
    },
    "accelerator": "GPU",
    "widgets": {
      "application/vnd.jupyter.widget-state+json": {
        "427a8a82806f4691805ac87e68fb5a4f": {
          "model_module": "@jupyter-widgets/controls",
          "model_name": "HBoxModel",
          "model_module_version": "1.5.0",
          "state": {
            "_dom_classes": [],
            "_model_module": "@jupyter-widgets/controls",
            "_model_module_version": "1.5.0",
            "_model_name": "HBoxModel",
            "_view_count": null,
            "_view_module": "@jupyter-widgets/controls",
            "_view_module_version": "1.5.0",
            "_view_name": "HBoxView",
            "box_style": "",
            "children": [
              "IPY_MODEL_56e0d1499d42416382ad4cadb990edff",
              "IPY_MODEL_6dd8afc0719f4ad49f9bbf4309e6dba9",
              "IPY_MODEL_4c6c25f3d4a5462ea73eff89d023de95"
            ],
            "layout": "IPY_MODEL_eb33b59a96e6471b8003d614e6f8195e"
          }
        },
        "56e0d1499d42416382ad4cadb990edff": {
          "model_module": "@jupyter-widgets/controls",
          "model_name": "HTMLModel",
          "model_module_version": "1.5.0",
          "state": {
            "_dom_classes": [],
            "_model_module": "@jupyter-widgets/controls",
            "_model_module_version": "1.5.0",
            "_model_name": "HTMLModel",
            "_view_count": null,
            "_view_module": "@jupyter-widgets/controls",
            "_view_module_version": "1.5.0",
            "_view_name": "HTMLView",
            "description": "",
            "description_tooltip": null,
            "layout": "IPY_MODEL_0202fe2239704e68999737f1549409bb",
            "placeholder": "​",
            "style": "IPY_MODEL_415be2a2ca60412c8864c3715b6ef914",
            "value": "Map: 100%"
          }
        },
        "6dd8afc0719f4ad49f9bbf4309e6dba9": {
          "model_module": "@jupyter-widgets/controls",
          "model_name": "FloatProgressModel",
          "model_module_version": "1.5.0",
          "state": {
            "_dom_classes": [],
            "_model_module": "@jupyter-widgets/controls",
            "_model_module_version": "1.5.0",
            "_model_name": "FloatProgressModel",
            "_view_count": null,
            "_view_module": "@jupyter-widgets/controls",
            "_view_module_version": "1.5.0",
            "_view_name": "ProgressView",
            "bar_style": "success",
            "description": "",
            "description_tooltip": null,
            "layout": "IPY_MODEL_c3f48ebb881d4cad8108ff71a186572d",
            "max": 50000,
            "min": 0,
            "orientation": "horizontal",
            "style": "IPY_MODEL_380e3bddd5514575936d15fa765d329c",
            "value": 50000
          }
        },
        "4c6c25f3d4a5462ea73eff89d023de95": {
          "model_module": "@jupyter-widgets/controls",
          "model_name": "HTMLModel",
          "model_module_version": "1.5.0",
          "state": {
            "_dom_classes": [],
            "_model_module": "@jupyter-widgets/controls",
            "_model_module_version": "1.5.0",
            "_model_name": "HTMLModel",
            "_view_count": null,
            "_view_module": "@jupyter-widgets/controls",
            "_view_module_version": "1.5.0",
            "_view_name": "HTMLView",
            "description": "",
            "description_tooltip": null,
            "layout": "IPY_MODEL_79dd7e36f1ec472ba5468424bd67b89e",
            "placeholder": "​",
            "style": "IPY_MODEL_5d9f179da6e346de9251f60233161593",
            "value": " 50000/50000 [15:07&lt;00:00, 42.46 examples/s]"
          }
        },
        "eb33b59a96e6471b8003d614e6f8195e": {
          "model_module": "@jupyter-widgets/base",
          "model_name": "LayoutModel",
          "model_module_version": "1.2.0",
          "state": {
            "_model_module": "@jupyter-widgets/base",
            "_model_module_version": "1.2.0",
            "_model_name": "LayoutModel",
            "_view_count": null,
            "_view_module": "@jupyter-widgets/base",
            "_view_module_version": "1.2.0",
            "_view_name": "LayoutView",
            "align_content": null,
            "align_items": null,
            "align_self": null,
            "border": null,
            "bottom": null,
            "display": null,
            "flex": null,
            "flex_flow": null,
            "grid_area": null,
            "grid_auto_columns": null,
            "grid_auto_flow": null,
            "grid_auto_rows": null,
            "grid_column": null,
            "grid_gap": null,
            "grid_row": null,
            "grid_template_areas": null,
            "grid_template_columns": null,
            "grid_template_rows": null,
            "height": null,
            "justify_content": null,
            "justify_items": null,
            "left": null,
            "margin": null,
            "max_height": null,
            "max_width": null,
            "min_height": null,
            "min_width": null,
            "object_fit": null,
            "object_position": null,
            "order": null,
            "overflow": null,
            "overflow_x": null,
            "overflow_y": null,
            "padding": null,
            "right": null,
            "top": null,
            "visibility": null,
            "width": null
          }
        },
        "0202fe2239704e68999737f1549409bb": {
          "model_module": "@jupyter-widgets/base",
          "model_name": "LayoutModel",
          "model_module_version": "1.2.0",
          "state": {
            "_model_module": "@jupyter-widgets/base",
            "_model_module_version": "1.2.0",
            "_model_name": "LayoutModel",
            "_view_count": null,
            "_view_module": "@jupyter-widgets/base",
            "_view_module_version": "1.2.0",
            "_view_name": "LayoutView",
            "align_content": null,
            "align_items": null,
            "align_self": null,
            "border": null,
            "bottom": null,
            "display": null,
            "flex": null,
            "flex_flow": null,
            "grid_area": null,
            "grid_auto_columns": null,
            "grid_auto_flow": null,
            "grid_auto_rows": null,
            "grid_column": null,
            "grid_gap": null,
            "grid_row": null,
            "grid_template_areas": null,
            "grid_template_columns": null,
            "grid_template_rows": null,
            "height": null,
            "justify_content": null,
            "justify_items": null,
            "left": null,
            "margin": null,
            "max_height": null,
            "max_width": null,
            "min_height": null,
            "min_width": null,
            "object_fit": null,
            "object_position": null,
            "order": null,
            "overflow": null,
            "overflow_x": null,
            "overflow_y": null,
            "padding": null,
            "right": null,
            "top": null,
            "visibility": null,
            "width": null
          }
        },
        "415be2a2ca60412c8864c3715b6ef914": {
          "model_module": "@jupyter-widgets/controls",
          "model_name": "DescriptionStyleModel",
          "model_module_version": "1.5.0",
          "state": {
            "_model_module": "@jupyter-widgets/controls",
            "_model_module_version": "1.5.0",
            "_model_name": "DescriptionStyleModel",
            "_view_count": null,
            "_view_module": "@jupyter-widgets/base",
            "_view_module_version": "1.2.0",
            "_view_name": "StyleView",
            "description_width": ""
          }
        },
        "c3f48ebb881d4cad8108ff71a186572d": {
          "model_module": "@jupyter-widgets/base",
          "model_name": "LayoutModel",
          "model_module_version": "1.2.0",
          "state": {
            "_model_module": "@jupyter-widgets/base",
            "_model_module_version": "1.2.0",
            "_model_name": "LayoutModel",
            "_view_count": null,
            "_view_module": "@jupyter-widgets/base",
            "_view_module_version": "1.2.0",
            "_view_name": "LayoutView",
            "align_content": null,
            "align_items": null,
            "align_self": null,
            "border": null,
            "bottom": null,
            "display": null,
            "flex": null,
            "flex_flow": null,
            "grid_area": null,
            "grid_auto_columns": null,
            "grid_auto_flow": null,
            "grid_auto_rows": null,
            "grid_column": null,
            "grid_gap": null,
            "grid_row": null,
            "grid_template_areas": null,
            "grid_template_columns": null,
            "grid_template_rows": null,
            "height": null,
            "justify_content": null,
            "justify_items": null,
            "left": null,
            "margin": null,
            "max_height": null,
            "max_width": null,
            "min_height": null,
            "min_width": null,
            "object_fit": null,
            "object_position": null,
            "order": null,
            "overflow": null,
            "overflow_x": null,
            "overflow_y": null,
            "padding": null,
            "right": null,
            "top": null,
            "visibility": null,
            "width": null
          }
        },
        "380e3bddd5514575936d15fa765d329c": {
          "model_module": "@jupyter-widgets/controls",
          "model_name": "ProgressStyleModel",
          "model_module_version": "1.5.0",
          "state": {
            "_model_module": "@jupyter-widgets/controls",
            "_model_module_version": "1.5.0",
            "_model_name": "ProgressStyleModel",
            "_view_count": null,
            "_view_module": "@jupyter-widgets/base",
            "_view_module_version": "1.2.0",
            "_view_name": "StyleView",
            "bar_color": null,
            "description_width": ""
          }
        },
        "79dd7e36f1ec472ba5468424bd67b89e": {
          "model_module": "@jupyter-widgets/base",
          "model_name": "LayoutModel",
          "model_module_version": "1.2.0",
          "state": {
            "_model_module": "@jupyter-widgets/base",
            "_model_module_version": "1.2.0",
            "_model_name": "LayoutModel",
            "_view_count": null,
            "_view_module": "@jupyter-widgets/base",
            "_view_module_version": "1.2.0",
            "_view_name": "LayoutView",
            "align_content": null,
            "align_items": null,
            "align_self": null,
            "border": null,
            "bottom": null,
            "display": null,
            "flex": null,
            "flex_flow": null,
            "grid_area": null,
            "grid_auto_columns": null,
            "grid_auto_flow": null,
            "grid_auto_rows": null,
            "grid_column": null,
            "grid_gap": null,
            "grid_row": null,
            "grid_template_areas": null,
            "grid_template_columns": null,
            "grid_template_rows": null,
            "height": null,
            "justify_content": null,
            "justify_items": null,
            "left": null,
            "margin": null,
            "max_height": null,
            "max_width": null,
            "min_height": null,
            "min_width": null,
            "object_fit": null,
            "object_position": null,
            "order": null,
            "overflow": null,
            "overflow_x": null,
            "overflow_y": null,
            "padding": null,
            "right": null,
            "top": null,
            "visibility": null,
            "width": null
          }
        },
        "5d9f179da6e346de9251f60233161593": {
          "model_module": "@jupyter-widgets/controls",
          "model_name": "DescriptionStyleModel",
          "model_module_version": "1.5.0",
          "state": {
            "_model_module": "@jupyter-widgets/controls",
            "_model_module_version": "1.5.0",
            "_model_name": "DescriptionStyleModel",
            "_view_count": null,
            "_view_module": "@jupyter-widgets/base",
            "_view_module_version": "1.2.0",
            "_view_name": "StyleView",
            "description_width": ""
          }
        },
        "11bf8bd02b1c412487b0182dfff99371": {
          "model_module": "@jupyter-widgets/controls",
          "model_name": "HBoxModel",
          "model_module_version": "1.5.0",
          "state": {
            "_dom_classes": [],
            "_model_module": "@jupyter-widgets/controls",
            "_model_module_version": "1.5.0",
            "_model_name": "HBoxModel",
            "_view_count": null,
            "_view_module": "@jupyter-widgets/controls",
            "_view_module_version": "1.5.0",
            "_view_name": "HBoxView",
            "box_style": "",
            "children": [
              "IPY_MODEL_201508906bf74d139a403a89508d782a",
              "IPY_MODEL_f73978d93fd94d1ba944358b1b23cfeb",
              "IPY_MODEL_eb3ebde63b984e5388132aef3f8a5c8d"
            ],
            "layout": "IPY_MODEL_fb3c68139e2d44bb922d4a05d020771c"
          }
        },
        "201508906bf74d139a403a89508d782a": {
          "model_module": "@jupyter-widgets/controls",
          "model_name": "HTMLModel",
          "model_module_version": "1.5.0",
          "state": {
            "_dom_classes": [],
            "_model_module": "@jupyter-widgets/controls",
            "_model_module_version": "1.5.0",
            "_model_name": "HTMLModel",
            "_view_count": null,
            "_view_module": "@jupyter-widgets/controls",
            "_view_module_version": "1.5.0",
            "_view_name": "HTMLView",
            "description": "",
            "description_tooltip": null,
            "layout": "IPY_MODEL_0ac76409e2504c8592214257741a6afa",
            "placeholder": "​",
            "style": "IPY_MODEL_275a35b11cf04d1884a0dffa587157ce",
            "value": "Map: 100%"
          }
        },
        "f73978d93fd94d1ba944358b1b23cfeb": {
          "model_module": "@jupyter-widgets/controls",
          "model_name": "FloatProgressModel",
          "model_module_version": "1.5.0",
          "state": {
            "_dom_classes": [],
            "_model_module": "@jupyter-widgets/controls",
            "_model_module_version": "1.5.0",
            "_model_name": "FloatProgressModel",
            "_view_count": null,
            "_view_module": "@jupyter-widgets/controls",
            "_view_module_version": "1.5.0",
            "_view_name": "ProgressView",
            "bar_style": "success",
            "description": "",
            "description_tooltip": null,
            "layout": "IPY_MODEL_192747b0fded4116b5f0734f21fbc570",
            "max": 10000,
            "min": 0,
            "orientation": "horizontal",
            "style": "IPY_MODEL_bc9324cbd3f3494e9ab532fb042918d0",
            "value": 10000
          }
        },
        "eb3ebde63b984e5388132aef3f8a5c8d": {
          "model_module": "@jupyter-widgets/controls",
          "model_name": "HTMLModel",
          "model_module_version": "1.5.0",
          "state": {
            "_dom_classes": [],
            "_model_module": "@jupyter-widgets/controls",
            "_model_module_version": "1.5.0",
            "_model_name": "HTMLModel",
            "_view_count": null,
            "_view_module": "@jupyter-widgets/controls",
            "_view_module_version": "1.5.0",
            "_view_name": "HTMLView",
            "description": "",
            "description_tooltip": null,
            "layout": "IPY_MODEL_86560957fe74428b84850cc373bba13d",
            "placeholder": "​",
            "style": "IPY_MODEL_70f3e45e4c3e401d8dccade044ff8619",
            "value": " 10000/10000 [03:02&lt;00:00, 54.43 examples/s]"
          }
        },
        "fb3c68139e2d44bb922d4a05d020771c": {
          "model_module": "@jupyter-widgets/base",
          "model_name": "LayoutModel",
          "model_module_version": "1.2.0",
          "state": {
            "_model_module": "@jupyter-widgets/base",
            "_model_module_version": "1.2.0",
            "_model_name": "LayoutModel",
            "_view_count": null,
            "_view_module": "@jupyter-widgets/base",
            "_view_module_version": "1.2.0",
            "_view_name": "LayoutView",
            "align_content": null,
            "align_items": null,
            "align_self": null,
            "border": null,
            "bottom": null,
            "display": null,
            "flex": null,
            "flex_flow": null,
            "grid_area": null,
            "grid_auto_columns": null,
            "grid_auto_flow": null,
            "grid_auto_rows": null,
            "grid_column": null,
            "grid_gap": null,
            "grid_row": null,
            "grid_template_areas": null,
            "grid_template_columns": null,
            "grid_template_rows": null,
            "height": null,
            "justify_content": null,
            "justify_items": null,
            "left": null,
            "margin": null,
            "max_height": null,
            "max_width": null,
            "min_height": null,
            "min_width": null,
            "object_fit": null,
            "object_position": null,
            "order": null,
            "overflow": null,
            "overflow_x": null,
            "overflow_y": null,
            "padding": null,
            "right": null,
            "top": null,
            "visibility": null,
            "width": null
          }
        },
        "0ac76409e2504c8592214257741a6afa": {
          "model_module": "@jupyter-widgets/base",
          "model_name": "LayoutModel",
          "model_module_version": "1.2.0",
          "state": {
            "_model_module": "@jupyter-widgets/base",
            "_model_module_version": "1.2.0",
            "_model_name": "LayoutModel",
            "_view_count": null,
            "_view_module": "@jupyter-widgets/base",
            "_view_module_version": "1.2.0",
            "_view_name": "LayoutView",
            "align_content": null,
            "align_items": null,
            "align_self": null,
            "border": null,
            "bottom": null,
            "display": null,
            "flex": null,
            "flex_flow": null,
            "grid_area": null,
            "grid_auto_columns": null,
            "grid_auto_flow": null,
            "grid_auto_rows": null,
            "grid_column": null,
            "grid_gap": null,
            "grid_row": null,
            "grid_template_areas": null,
            "grid_template_columns": null,
            "grid_template_rows": null,
            "height": null,
            "justify_content": null,
            "justify_items": null,
            "left": null,
            "margin": null,
            "max_height": null,
            "max_width": null,
            "min_height": null,
            "min_width": null,
            "object_fit": null,
            "object_position": null,
            "order": null,
            "overflow": null,
            "overflow_x": null,
            "overflow_y": null,
            "padding": null,
            "right": null,
            "top": null,
            "visibility": null,
            "width": null
          }
        },
        "275a35b11cf04d1884a0dffa587157ce": {
          "model_module": "@jupyter-widgets/controls",
          "model_name": "DescriptionStyleModel",
          "model_module_version": "1.5.0",
          "state": {
            "_model_module": "@jupyter-widgets/controls",
            "_model_module_version": "1.5.0",
            "_model_name": "DescriptionStyleModel",
            "_view_count": null,
            "_view_module": "@jupyter-widgets/base",
            "_view_module_version": "1.2.0",
            "_view_name": "StyleView",
            "description_width": ""
          }
        },
        "192747b0fded4116b5f0734f21fbc570": {
          "model_module": "@jupyter-widgets/base",
          "model_name": "LayoutModel",
          "model_module_version": "1.2.0",
          "state": {
            "_model_module": "@jupyter-widgets/base",
            "_model_module_version": "1.2.0",
            "_model_name": "LayoutModel",
            "_view_count": null,
            "_view_module": "@jupyter-widgets/base",
            "_view_module_version": "1.2.0",
            "_view_name": "LayoutView",
            "align_content": null,
            "align_items": null,
            "align_self": null,
            "border": null,
            "bottom": null,
            "display": null,
            "flex": null,
            "flex_flow": null,
            "grid_area": null,
            "grid_auto_columns": null,
            "grid_auto_flow": null,
            "grid_auto_rows": null,
            "grid_column": null,
            "grid_gap": null,
            "grid_row": null,
            "grid_template_areas": null,
            "grid_template_columns": null,
            "grid_template_rows": null,
            "height": null,
            "justify_content": null,
            "justify_items": null,
            "left": null,
            "margin": null,
            "max_height": null,
            "max_width": null,
            "min_height": null,
            "min_width": null,
            "object_fit": null,
            "object_position": null,
            "order": null,
            "overflow": null,
            "overflow_x": null,
            "overflow_y": null,
            "padding": null,
            "right": null,
            "top": null,
            "visibility": null,
            "width": null
          }
        },
        "bc9324cbd3f3494e9ab532fb042918d0": {
          "model_module": "@jupyter-widgets/controls",
          "model_name": "ProgressStyleModel",
          "model_module_version": "1.5.0",
          "state": {
            "_model_module": "@jupyter-widgets/controls",
            "_model_module_version": "1.5.0",
            "_model_name": "ProgressStyleModel",
            "_view_count": null,
            "_view_module": "@jupyter-widgets/base",
            "_view_module_version": "1.2.0",
            "_view_name": "StyleView",
            "bar_color": null,
            "description_width": ""
          }
        },
        "86560957fe74428b84850cc373bba13d": {
          "model_module": "@jupyter-widgets/base",
          "model_name": "LayoutModel",
          "model_module_version": "1.2.0",
          "state": {
            "_model_module": "@jupyter-widgets/base",
            "_model_module_version": "1.2.0",
            "_model_name": "LayoutModel",
            "_view_count": null,
            "_view_module": "@jupyter-widgets/base",
            "_view_module_version": "1.2.0",
            "_view_name": "LayoutView",
            "align_content": null,
            "align_items": null,
            "align_self": null,
            "border": null,
            "bottom": null,
            "display": null,
            "flex": null,
            "flex_flow": null,
            "grid_area": null,
            "grid_auto_columns": null,
            "grid_auto_flow": null,
            "grid_auto_rows": null,
            "grid_column": null,
            "grid_gap": null,
            "grid_row": null,
            "grid_template_areas": null,
            "grid_template_columns": null,
            "grid_template_rows": null,
            "height": null,
            "justify_content": null,
            "justify_items": null,
            "left": null,
            "margin": null,
            "max_height": null,
            "max_width": null,
            "min_height": null,
            "min_width": null,
            "object_fit": null,
            "object_position": null,
            "order": null,
            "overflow": null,
            "overflow_x": null,
            "overflow_y": null,
            "padding": null,
            "right": null,
            "top": null,
            "visibility": null,
            "width": null
          }
        },
        "70f3e45e4c3e401d8dccade044ff8619": {
          "model_module": "@jupyter-widgets/controls",
          "model_name": "DescriptionStyleModel",
          "model_module_version": "1.5.0",
          "state": {
            "_model_module": "@jupyter-widgets/controls",
            "_model_module_version": "1.5.0",
            "_model_name": "DescriptionStyleModel",
            "_view_count": null,
            "_view_module": "@jupyter-widgets/base",
            "_view_module_version": "1.2.0",
            "_view_name": "StyleView",
            "description_width": ""
          }
        }
      }
    }
  },
  "cells": [
    {
      "cell_type": "markdown",
      "metadata": {
        "id": "view-in-github",
        "colab_type": "text"
      },
      "source": [
        "<a href=\"https://colab.research.google.com/github/kae1dy/NLPCodeReview/blob/main/main.ipynb\" target=\"_parent\"><img src=\"https://colab.research.google.com/assets/colab-badge.svg\" alt=\"Open In Colab\"/></a>"
      ]
    },
    {
      "cell_type": "code",
      "execution_count": null,
      "metadata": {
        "id": "_-vqgz6llM8I"
      },
      "outputs": [],
      "source": [
        "!pip install datasets\n",
        "!pip install transformers\n",
        "\n",
        "from datasets import Dataset\n",
        "import pandas as pd\n",
        "from transformers import AutoModel, AutoTokenizer"
      ]
    },
    {
      "cell_type": "code",
      "source": [
        "# preprocessing dataset\n",
        "\n",
        "url = \"https://raw.githubusercontent.com/CommentFinder/CommentFinder/master/dataset\"\n",
        "\n",
        "data_files = {\n",
        "    \"train\": url + \"/train.tsv\",\n",
        "    \"test\":  url + \"/test.tsv\",\n",
        "}\n",
        "train = pd.read_csv(data_files[\"train\"], header=None, sep='\\t', on_bad_lines='skip', skipinitialspace=True, names=['source', 'target'])\n",
        "test = pd.read_csv(data_files[\"test\"], header=None, sep='\\t', on_bad_lines='skip', skipinitialspace=True, names=['source', 'target'])\n",
        "\n",
        "train = Dataset.from_pandas(train[:50000])\n",
        "test = Dataset.from_pandas(test[:10000])\n",
        "\n",
        "train, test"
      ],
      "metadata": {
        "colab": {
          "base_uri": "https://localhost:8080/"
        },
        "id": "uIhCcSUtlOZL",
        "outputId": "81e6a2d0-96aa-4092-ae9c-301305582bf3"
      },
      "execution_count": 6,
      "outputs": [
        {
          "output_type": "execute_result",
          "data": {
            "text/plain": [
              "(Dataset({\n",
              "     features: ['source', 'target'],\n",
              "     num_rows: 50000\n",
              " }),\n",
              " Dataset({\n",
              "     features: ['source', 'target'],\n",
              "     num_rows: 10000\n",
              " }))"
            ]
          },
          "metadata": {},
          "execution_count": 6
        }
      ]
    },
    {
      "cell_type": "code",
      "source": [
        "checkpoint = \"Salesforce/codet5p-110m-embedding\"\n",
        "device = \"cuda\"\n",
        "\n",
        "# import gc\n",
        "# gc.collect()\n",
        "\n",
        "tokenizer = AutoTokenizer.from_pretrained(checkpoint, trust_remote_code=True)\n",
        "model = AutoModel.from_pretrained(checkpoint, trust_remote_code=True).to(device)\n",
        "\n",
        "# code embedding\n",
        "def get_embedding(source):\n",
        "    input = tokenizer(source, padding=True, truncation=True, return_tensors=\"pt\")\n",
        "    input = {k: v.to(device) for k, v in input.items()}\n",
        "\n",
        "    model_output = model(**input)\n",
        "    return model_output\n",
        "\n",
        "train = train.map(\n",
        "    lambda x: {\"embedding\": get_embedding(x[\"source\"]).detach().cpu().numpy()[0]} # batched=True???\n",
        ")\n",
        "\n",
        "test = test.map(\n",
        "    lambda x: {\"embedding\": get_embedding(x[\"source\"]).detach().cpu().numpy()[0]} # batched=True???\n",
        ")\n",
        "train, test"
      ],
      "metadata": {
        "colab": {
          "base_uri": "https://localhost:8080/",
          "height": 217,
          "referenced_widgets": [
            "427a8a82806f4691805ac87e68fb5a4f",
            "56e0d1499d42416382ad4cadb990edff",
            "6dd8afc0719f4ad49f9bbf4309e6dba9",
            "4c6c25f3d4a5462ea73eff89d023de95",
            "eb33b59a96e6471b8003d614e6f8195e",
            "0202fe2239704e68999737f1549409bb",
            "415be2a2ca60412c8864c3715b6ef914",
            "c3f48ebb881d4cad8108ff71a186572d",
            "380e3bddd5514575936d15fa765d329c",
            "79dd7e36f1ec472ba5468424bd67b89e",
            "5d9f179da6e346de9251f60233161593",
            "11bf8bd02b1c412487b0182dfff99371",
            "201508906bf74d139a403a89508d782a",
            "f73978d93fd94d1ba944358b1b23cfeb",
            "eb3ebde63b984e5388132aef3f8a5c8d",
            "fb3c68139e2d44bb922d4a05d020771c",
            "0ac76409e2504c8592214257741a6afa",
            "275a35b11cf04d1884a0dffa587157ce",
            "192747b0fded4116b5f0734f21fbc570",
            "bc9324cbd3f3494e9ab532fb042918d0",
            "86560957fe74428b84850cc373bba13d",
            "70f3e45e4c3e401d8dccade044ff8619"
          ]
        },
        "id": "hTvbEoQNlObT",
        "outputId": "c9ae8e32-2c2e-49bb-d551-9cd504189f0e"
      },
      "execution_count": 7,
      "outputs": [
        {
          "output_type": "display_data",
          "data": {
            "text/plain": [
              "Map:   0%|          | 0/50000 [00:00<?, ? examples/s]"
            ],
            "application/vnd.jupyter.widget-view+json": {
              "version_major": 2,
              "version_minor": 0,
              "model_id": "427a8a82806f4691805ac87e68fb5a4f"
            }
          },
          "metadata": {}
        },
        {
          "output_type": "display_data",
          "data": {
            "text/plain": [
              "Map:   0%|          | 0/10000 [00:00<?, ? examples/s]"
            ],
            "application/vnd.jupyter.widget-view+json": {
              "version_major": 2,
              "version_minor": 0,
              "model_id": "11bf8bd02b1c412487b0182dfff99371"
            }
          },
          "metadata": {}
        },
        {
          "output_type": "execute_result",
          "data": {
            "text/plain": [
              "(Dataset({\n",
              "     features: ['source', 'target', 'embedding'],\n",
              "     num_rows: 50000\n",
              " }),\n",
              " Dataset({\n",
              "     features: ['source', 'target', 'embedding'],\n",
              "     num_rows: 10000\n",
              " }))"
            ]
          },
          "metadata": {},
          "execution_count": 7
        }
      ]
    },
    {
      "cell_type": "code",
      "source": [
        "import statistics\n",
        "import time\n",
        "import numpy as np\n",
        "from nltk.translate import bleu_score\n",
        "from sklearn.metrics.pairwise import cosine_similarity\n",
        "from tqdm import tqdm\n",
        "from functools import wraps\n",
        "\n",
        "train['embedding'], test['embedding']\n",
        "\n",
        "print(f'\\nVector Length: {len(test[\"embedding\"][0])}.')\n",
        "\n",
        "\n",
        "def timeit(func):\n",
        "    @wraps(func)\n",
        "    def timeit_wrapper(*args, **kwargs):\n",
        "        start_time = time.perf_counter()\n",
        "        result = func(*args, **kwargs)\n",
        "        total_time = time.perf_counter() - start_time\n",
        "        print(f'\\nTime cost ({func.__name__} {args}): {total_time:.4f} seconds.')\n",
        "        return result\n",
        "    return timeit_wrapper\n",
        "\n",
        "\n",
        "@timeit\n",
        "def predict_top_k(test, source, topk=10) -> list:\n",
        "    prediction = []\n",
        "    similarity = cosine_similarity(test['embedding'], source['embedding'])\n",
        "\n",
        "    for index, similar in enumerate(tqdm(similarity)):\n",
        "\n",
        "        index_nn = np.argpartition(similar, -topk)[-topk:]\n",
        "        current_prediction = [source['target'][i] for i in index_nn]\n",
        "\n",
        "        prediction.append(current_prediction)\n",
        "\n",
        "    #   write the recommendation comments to the file named as \"our_predictions_k.txt\"\n",
        "    with open('predictions_' + str(topk) + '.txt', 'w') as f:\n",
        "        for data in prediction:\n",
        "            for element in data:\n",
        "                f.write(element + '\\n')\n",
        "    return prediction\n",
        "\n",
        "# Compute the cosine distance and its computational time\n",
        "prediction = predict_top_k(test, train)\n",
        "chencherry = bleu_score.SmoothingFunction()\n",
        "\n",
        "predictions = [line.strip() for line in open(\"predictions_10.txt\")]\n",
        "\n",
        "# Evaluate perfect prediction & BLEU score of our approach\n",
        "for k in [1, 3, 5, 10]:\n",
        "\n",
        "    print(f'\\nk candidates: {k}.')\n",
        "    count_perfect = 0\n",
        "    BLEUscore = []\n",
        "\n",
        "    for i, target in enumerate(tqdm(test['target'])):\n",
        "        best_BLEU = 0\n",
        "        for prediction in predictions[i * k:i * k + k]:\n",
        "            current_BLEU = bleu_score.sentence_bleu([target], prediction, smoothing_function=chencherry.method1)\n",
        "            best_BLEU = max(best_BLEU, current_BLEU)\n",
        "\n",
        "            if \" \".join(prediction.split()) == \" \".join(target.split()):\n",
        "                count_perfect += 1\n",
        "                break\n",
        "        BLEUscore.append(best_BLEU)\n",
        "\n",
        "    print(f'\\nPP    : %d/%d (%s%.2f)' % (count_perfect, len(test['target']), '%', (count_perfect * 100) / len(test['target'])))\n",
        "    print(f'BLEU mean              : ', statistics.mean(BLEUscore))"
      ],
      "metadata": {
        "colab": {
          "base_uri": "https://localhost:8080/"
        },
        "id": "S4K8gH8ElOdr",
        "outputId": "5fed14ed-7a53-477b-90e8-67e86273f339"
      },
      "execution_count": 9,
      "outputs": [
        {
          "output_type": "stream",
          "name": "stdout",
          "text": [
            "\n",
            "k candidates: 1.\n"
          ]
        },
        {
          "output_type": "stream",
          "name": "stderr",
          "text": [
            "100%|██████████| 10000/10000 [00:07<00:00, 1282.10it/s]\n"
          ]
        },
        {
          "output_type": "stream",
          "name": "stdout",
          "text": [
            "\n",
            "PP    : 0/10000 (%0.00)\n",
            "BLEU mean              :  0.07186670454582522\n",
            "\n",
            "k candidates: 3.\n"
          ]
        },
        {
          "output_type": "stream",
          "name": "stderr",
          "text": [
            "100%|██████████| 10000/10000 [00:15<00:00, 626.81it/s]\n"
          ]
        },
        {
          "output_type": "stream",
          "name": "stdout",
          "text": [
            "\n",
            "PP    : 0/10000 (%0.00)\n",
            "BLEU mean              :  0.12376671759056854\n",
            "\n",
            "k candidates: 5.\n"
          ]
        },
        {
          "output_type": "stream",
          "name": "stderr",
          "text": [
            "100%|██████████| 10000/10000 [00:23<00:00, 425.50it/s]\n"
          ]
        },
        {
          "output_type": "stream",
          "name": "stdout",
          "text": [
            "\n",
            "PP    : 0/10000 (%0.00)\n",
            "BLEU mean              :  0.14684517137416095\n",
            "\n",
            "k candidates: 10.\n"
          ]
        },
        {
          "output_type": "stream",
          "name": "stderr",
          "text": [
            "100%|██████████| 10000/10000 [00:45<00:00, 221.54it/s]"
          ]
        },
        {
          "output_type": "stream",
          "name": "stdout",
          "text": [
            "\n",
            "PP    : 225/10000 (%2.25)\n",
            "BLEU mean              :  0.21998532860945674\n"
          ]
        },
        {
          "output_type": "stream",
          "name": "stderr",
          "text": [
            "\n"
          ]
        }
      ]
    },
    {
      "cell_type": "code",
      "source": [],
      "metadata": {
        "id": "VQfc2w6_lOfz"
      },
      "execution_count": null,
      "outputs": []
    }
  ]
}